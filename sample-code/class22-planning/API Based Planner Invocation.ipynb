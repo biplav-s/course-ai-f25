{
 "cells": [
  {
   "cell_type": "code",
   "execution_count": 1,
   "id": "c854df0b",
   "metadata": {},
   "outputs": [],
   "source": [
    "# Created by Biplav Srivastava\n",
    "# See more examples of problems in: \n",
    "# - https://github.com/AI-Planning/classical-domains/tree/main/classical\n",
    "# - https://github.com/ai4society/planning-resources/tree/main/hanoi"
   ]
  },
  {
   "cell_type": "code",
   "execution_count": 2,
   "id": "5afe8906",
   "metadata": {},
   "outputs": [],
   "source": [
    "# Based on http://solver.planning.domains/\n",
    "import requests, sys\n",
    "from requests.exceptions import JSONDecodeError"
   ]
  },
  {
   "cell_type": "code",
   "execution_count": 3,
   "id": "c4eddb19",
   "metadata": {},
   "outputs": [],
   "source": [
    "# domains from - https://github.com/AI-Planning/classical-domains/tree/master/classical/blocks\n",
    "# stored locally\n",
    "domain_file = \"data/elevator/domain-elev.pddl\"\n",
    "problem_file = \"data/elevator/problem-elev.pddl\" \n",
    "output_file = \"data/elevator/plan-elev.txt\"\n"
   ]
  },
  {
   "cell_type": "code",
   "execution_count": 4,
   "id": "a1cf53f0",
   "metadata": {},
   "outputs": [
    {
     "name": "stdout",
     "output_type": "stream",
     "text": [
      "Reading files - data/elevator/domain-elev.pddl, problem - data/elevator/problem-elev.pddl.\n"
     ]
    }
   ],
   "source": [
    "# Reading input files - domain and problem \n",
    "print (f\"Reading files - {domain_file}, problem - {problem_file}.\")\n",
    "\n",
    "data = {'domain': open(domain_file, 'r').read(), 'problem': open(problem_file, 'r').read()}"
   ]
  },
  {
   "cell_type": "code",
   "execution_count": 5,
   "id": "eaf800fa",
   "metadata": {},
   "outputs": [
    {
     "name": "stdout",
     "output_type": "stream",
     "text": [
      "Calling planner with domain - data/elevator/domain-elev.pddl, problem - data/elevator/problem-elev.pddl. Output will be in - data/elevator/plan-elev.txt\n"
     ]
    }
   ],
   "source": [
    "# Reading problem\n",
    "print (f\"Calling planner with domain - {domain_file}, problem - {problem_file}. Output will be in - {output_file}\")\n"
   ]
  },
  {
   "cell_type": "code",
   "execution_count": 6,
   "id": "cd84f079-f557-4b1a-9010-9e36c94d4f60",
   "metadata": {},
   "outputs": [
    {
     "name": "stderr",
     "output_type": "stream",
     "text": [
      "/Users/biplavs/opt/anaconda3/lib/python3.12/site-packages/urllib3/connectionpool.py:1099: InsecureRequestWarning: Unverified HTTPS request is being made to host 'solver.planning.domains'. Adding certificate verification is strongly advised. See: https://urllib3.readthedocs.io/en/latest/advanced-usage.html#tls-warnings\n",
      "  warnings.warn(\n"
     ]
    },
    {
     "name": "stdout",
     "output_type": "stream",
     "text": [
      "<Response [404]>\n",
      "An error occurred during the request: 404 Client Error: NOT FOUND for url: https://solver.planning.domains/solve\n"
     ]
    }
   ],
   "source": [
    "try:\n",
    "    response_raw = requests.post('http://solver.planning.domains/solve',\n",
    "                     verify=False, json=data)\n",
    "\n",
    "    print(response_raw) # Raise an exception for bad status codes (4xx or 5xx)\n",
    "    response_raw.raise_for_status()\n",
    " \n",
    "    response = response_raw.json() \n",
    "\n",
    "    if response.headers.get('Content-Type') == 'application/json':\n",
    "        data = response.json()\n",
    "        print(\"Received JSON data:\", data)\n",
    "    else:\n",
    "        print(\"Response is not JSON. Content-Type:\", response.headers.get('Content-Type'))\n",
    "        print(\"Raw response text:\", response.text)\n",
    "\n",
    "except JSONDecodeError as e:\n",
    "    print(f\"Error decoding JSON: {e}\")\n",
    "    print(\"Raw response text that caused the error:\", response.text)\n",
    "except requests.exceptions.RequestException as e:\n",
    "    print(f\"An error occurred during the request: {e}\")\n"
   ]
  },
  {
   "cell_type": "code",
   "execution_count": 7,
   "id": "c7f3b32e",
   "metadata": {},
   "outputs": [
    {
     "ename": "NameError",
     "evalue": "name 'response' is not defined",
     "output_type": "error",
     "traceback": [
      "\u001b[0;31m---------------------------------------------------------------------------\u001b[0m",
      "\u001b[0;31mNameError\u001b[0m                                 Traceback (most recent call last)",
      "Cell \u001b[0;32mIn[7], line 3\u001b[0m\n\u001b[1;32m      1\u001b[0m \u001b[38;5;66;03m# Write result\u001b[39;00m\n\u001b[1;32m      2\u001b[0m \u001b[38;5;28;01mwith\u001b[39;00m \u001b[38;5;28mopen\u001b[39m(output_file, \u001b[38;5;124m'\u001b[39m\u001b[38;5;124mw\u001b[39m\u001b[38;5;124m'\u001b[39m) \u001b[38;5;28;01mas\u001b[39;00m f:\n\u001b[0;32m----> 3\u001b[0m     f\u001b[38;5;241m.\u001b[39mwrite(\u001b[38;5;124m'\u001b[39m\u001b[38;5;130;01m\\n\u001b[39;00m\u001b[38;5;124m'\u001b[39m\u001b[38;5;241m.\u001b[39mjoin([act[\u001b[38;5;124m'\u001b[39m\u001b[38;5;124mname\u001b[39m\u001b[38;5;124m'\u001b[39m] \u001b[38;5;28;01mfor\u001b[39;00m act \u001b[38;5;129;01min\u001b[39;00m response[\u001b[38;5;124m'\u001b[39m\u001b[38;5;124mresult\u001b[39m\u001b[38;5;124m'\u001b[39m][\u001b[38;5;124m'\u001b[39m\u001b[38;5;124mplan\u001b[39m\u001b[38;5;124m'\u001b[39m]]))\n",
      "\u001b[0;31mNameError\u001b[0m: name 'response' is not defined"
     ]
    }
   ],
   "source": [
    "# Write result\n",
    "with open(output_file, 'w') as f:\n",
    "    f.write('\\n'.join([act['name'] for act in response['result']['plan']]))"
   ]
  },
  {
   "cell_type": "code",
   "execution_count": null,
   "id": "c5f94193-7b48-4a4c-9b05-474bf2456260",
   "metadata": {},
   "outputs": [],
   "source": []
  }
 ],
 "metadata": {
  "kernelspec": {
   "display_name": "Python 3",
   "language": "python",
   "name": "python3"
  },
  "language_info": {
   "codemirror_mode": {
    "name": "ipython",
    "version": 3
   },
   "file_extension": ".py",
   "mimetype": "text/x-python",
   "name": "python",
   "nbconvert_exporter": "python",
   "pygments_lexer": "ipython3",
   "version": "3.12.7"
  }
 },
 "nbformat": 4,
 "nbformat_minor": 5
}
