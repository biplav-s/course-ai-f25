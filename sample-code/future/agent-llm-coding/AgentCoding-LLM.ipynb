{
 "cells": [
  {
   "cell_type": "code",
   "execution_count": null,
   "id": "396b8b0e-3043-451b-9abd-afdb27160f09",
   "metadata": {},
   "outputs": [],
   "source": [
    "# Demonstrate using Strands library\n",
    "# Credit: https://github.com/strands-agents/sdk-python"
   ]
  },
  {
   "cell_type": "code",
   "execution_count": null,
   "id": "697698f1-1c04-4634-8981-5c88bdce0464",
   "metadata": {},
   "outputs": [],
   "source": [
    "# Install Strands Agents\n",
    "# ** Do if needed\n",
    "#!pip install strands-agents strands-agents-tools"
   ]
  },
  {
   "cell_type": "code",
   "execution_count": null,
   "id": "ab1101d6-3272-4c10-8f23-89b7bff5d96b",
   "metadata": {},
   "outputs": [],
   "source": [
    "# Imports\n",
    "from strands import Agent\n",
    "from strands_tools import calculator"
   ]
  },
  {
   "cell_type": "code",
   "execution_count": null,
   "id": "0e03fc98-3f68-4b17-8880-19210e6813df",
   "metadata": {},
   "outputs": [],
   "source": [
    "# Configuration for LLM has to be setup\n",
    "# See: https://strandsagents.com/latest/documentation/docs/user-guide/quickstart/"
   ]
  },
  {
   "cell_type": "code",
   "execution_count": null,
   "id": "9f1d9c09-3a4d-4a6d-a990-6b97747bb36e",
   "metadata": {},
   "outputs": [],
   "source": [
    "# Instantiate\n",
    "agent = Agent(tools=[calculator])"
   ]
  },
  {
   "cell_type": "code",
   "execution_count": null,
   "id": "35f4c37c-cb97-4030-8e65-cfe8caf58e0a",
   "metadata": {},
   "outputs": [],
   "source": [
    "# Ask\n",
    "agent(\"What is the square root of 625\")"
   ]
  },
  {
   "cell_type": "code",
   "execution_count": null,
   "id": "21cab567-6e91-4967-b5c1-da98c4285208",
   "metadata": {},
   "outputs": [],
   "source": []
  }
 ],
 "metadata": {
  "kernelspec": {
   "display_name": "Python 3",
   "language": "python",
   "name": "python3"
  },
  "language_info": {
   "codemirror_mode": {
    "name": "ipython",
    "version": 3
   },
   "file_extension": ".py",
   "mimetype": "text/x-python",
   "name": "python",
   "nbconvert_exporter": "python",
   "pygments_lexer": "ipython3",
   "version": "3.12.7"
  }
 },
 "nbformat": 4,
 "nbformat_minor": 5
}
